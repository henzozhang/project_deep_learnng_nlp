{
 "cells": [
  {
   "cell_type": "code",
<<<<<<< HEAD
   "execution_count": 15,
=======
   "execution_count": 2,
>>>>>>> main
   "metadata": {},
   "outputs": [],
   "source": [
    "import pandas as pd"
   ]
  },
  {
   "cell_type": "code",
<<<<<<< HEAD
   "execution_count": 18,
   "metadata": {},
   "outputs": [],
   "source": [
    "df = pd.read_json('data/test.jsonl', lines=True)"
=======
   "execution_count": 3,
   "metadata": {},
   "outputs": [],
   "source": [
    "df = pd.read_json('test.jsonl', lines=True)"
>>>>>>> main
   ]
  },
  {
   "cell_type": "code",
<<<<<<< HEAD
   "execution_count": 19,
=======
   "execution_count": 4,
>>>>>>> main
   "metadata": {},
   "outputs": [
    {
     "data": {
      "text/html": [
       "<div>\n",
       "<style scoped>\n",
       "    .dataframe tbody tr th:only-of-type {\n",
       "        vertical-align: middle;\n",
       "    }\n",
       "\n",
       "    .dataframe tbody tr th {\n",
       "        vertical-align: top;\n",
       "    }\n",
       "\n",
       "    .dataframe thead th {\n",
       "        text-align: right;\n",
       "    }\n",
       "</style>\n",
       "<table border=\"1\" class=\"dataframe\">\n",
       "  <thead>\n",
       "    <tr style=\"text-align: right;\">\n",
       "      <th></th>\n",
       "      <th>text</th>\n",
       "      <th>label</th>\n",
       "    </tr>\n",
       "  </thead>\n",
       "  <tbody>\n",
       "    <tr>\n",
       "      <th>0</th>\n",
       "      <td>Royal: le président n'aime pas les pauvres? \"c...</td>\n",
       "      <td>0</td>\n",
       "    </tr>\n",
       "    <tr>\n",
       "      <th>1</th>\n",
       "      <td>La 'fashionweek' du fleurissement - Site Offic...</td>\n",
       "      <td>1</td>\n",
       "    </tr>\n",
       "    <tr>\n",
       "      <th>2</th>\n",
       "      <td>#press #seo: Nager vert avec les piscines écol...</td>\n",
       "      <td>2</td>\n",
       "    </tr>\n",
       "    <tr>\n",
       "      <th>3</th>\n",
       "      <td>#Biodiversité #Gard : Des Lézards ocellés détr...</td>\n",
       "      <td>0</td>\n",
       "    </tr>\n",
       "    <tr>\n",
       "      <th>4</th>\n",
       "      <td>#Sicav #FCP : une sélection de valeurs \"dévelo...</td>\n",
       "      <td>1</td>\n",
       "    </tr>\n",
       "    <tr>\n",
       "      <th>...</th>\n",
       "      <td>...</td>\n",
       "      <td>...</td>\n",
       "    </tr>\n",
       "    <tr>\n",
       "      <th>865</th>\n",
       "      <td>Terre de biodiversité &amp;gt; http &amp;gt; Conseil g...</td>\n",
       "      <td>1</td>\n",
       "    </tr>\n",
       "    <tr>\n",
       "      <th>866</th>\n",
       "      <td>Le #Panama  c'est une variété de paysages mais...</td>\n",
       "      <td>2</td>\n",
       "    </tr>\n",
       "    <tr>\n",
       "      <th>867</th>\n",
       "      <td>. @user @user OVH ils font du Greenwhasing sur...</td>\n",
       "      <td>0</td>\n",
       "    </tr>\n",
       "    <tr>\n",
       "      <th>868</th>\n",
       "      <td>A relire sur [http 4 secrets beauté du marc de...</td>\n",
       "      <td>1</td>\n",
       "    </tr>\n",
       "    <tr>\n",
       "      <th>869</th>\n",
       "      <td>10 #matériaux incroyables pour les #bâtiments ...</td>\n",
       "      <td>2</td>\n",
       "    </tr>\n",
       "  </tbody>\n",
       "</table>\n",
       "<p>870 rows × 2 columns</p>\n",
       "</div>"
      ],
      "text/plain": [
       "                                                  text  label\n",
       "0    Royal: le président n'aime pas les pauvres? \"c...      0\n",
       "1    La 'fashionweek' du fleurissement - Site Offic...      1\n",
       "2    #press #seo: Nager vert avec les piscines écol...      2\n",
       "3    #Biodiversité #Gard : Des Lézards ocellés détr...      0\n",
       "4    #Sicav #FCP : une sélection de valeurs \"dévelo...      1\n",
       "..                                                 ...    ...\n",
       "865  Terre de biodiversité &gt; http &gt; Conseil g...      1\n",
       "866  Le #Panama  c'est une variété de paysages mais...      2\n",
       "867  . @user @user OVH ils font du Greenwhasing sur...      0\n",
       "868  A relire sur [http 4 secrets beauté du marc de...      1\n",
       "869  10 #matériaux incroyables pour les #bâtiments ...      2\n",
       "\n",
       "[870 rows x 2 columns]"
      ]
     },
<<<<<<< HEAD
     "execution_count": 19,
=======
     "execution_count": 4,
>>>>>>> main
     "metadata": {},
     "output_type": "execute_result"
    }
   ],
   "source": [
    "df"
   ]
  },
  {
   "cell_type": "code",
<<<<<<< HEAD
   "execution_count": 20,
=======
   "execution_count": 5,
>>>>>>> main
   "metadata": {},
   "outputs": [
    {
     "data": {
      "text/plain": [
       "0    290\n",
       "1    290\n",
       "2    290\n",
       "Name: label, dtype: int64"
      ]
     },
<<<<<<< HEAD
     "execution_count": 20,
=======
     "execution_count": 5,
>>>>>>> main
     "metadata": {},
     "output_type": "execute_result"
    }
   ],
   "source": [
    "df['label'].value_counts()"
   ]
  },
  {
   "cell_type": "code",
<<<<<<< HEAD
   "execution_count": 21,
=======
   "execution_count": 6,
>>>>>>> main
   "metadata": {},
   "outputs": [],
   "source": [
    "def map_label_to_sentiment(label):\n",
    "    if label == 0:\n",
    "        return 'negative'\n",
    "    elif label == 1:\n",
    "        return 'neutral'\n",
    "    elif label == 2:\n",
    "        return 'positive'"
   ]
  },
  {
   "cell_type": "code",
<<<<<<< HEAD
   "execution_count": 22,
=======
   "execution_count": 7,
>>>>>>> main
   "metadata": {},
   "outputs": [],
   "source": [
    "df['sentiment'] = df['label'].apply(map_label_to_sentiment)"
   ]
  },
  {
   "cell_type": "code",
<<<<<<< HEAD
   "execution_count": 23,
=======
   "execution_count": 8,
>>>>>>> main
   "metadata": {},
   "outputs": [
    {
     "data": {
      "text/html": [
       "<div>\n",
       "<style scoped>\n",
       "    .dataframe tbody tr th:only-of-type {\n",
       "        vertical-align: middle;\n",
       "    }\n",
       "\n",
       "    .dataframe tbody tr th {\n",
       "        vertical-align: top;\n",
       "    }\n",
       "\n",
       "    .dataframe thead th {\n",
       "        text-align: right;\n",
       "    }\n",
       "</style>\n",
       "<table border=\"1\" class=\"dataframe\">\n",
       "  <thead>\n",
       "    <tr style=\"text-align: right;\">\n",
       "      <th></th>\n",
       "      <th>text</th>\n",
       "      <th>label</th>\n",
       "      <th>sentiment</th>\n",
       "    </tr>\n",
       "  </thead>\n",
       "  <tbody>\n",
       "    <tr>\n",
       "      <th>0</th>\n",
       "      <td>Royal: le président n'aime pas les pauvres? \"c...</td>\n",
       "      <td>0</td>\n",
       "      <td>negative</td>\n",
       "    </tr>\n",
       "    <tr>\n",
       "      <th>1</th>\n",
       "      <td>La 'fashionweek' du fleurissement - Site Offic...</td>\n",
       "      <td>1</td>\n",
       "      <td>neutral</td>\n",
       "    </tr>\n",
       "    <tr>\n",
       "      <th>2</th>\n",
       "      <td>#press #seo: Nager vert avec les piscines écol...</td>\n",
       "      <td>2</td>\n",
       "      <td>positive</td>\n",
       "    </tr>\n",
       "    <tr>\n",
       "      <th>3</th>\n",
       "      <td>#Biodiversité #Gard : Des Lézards ocellés détr...</td>\n",
       "      <td>0</td>\n",
       "      <td>negative</td>\n",
       "    </tr>\n",
       "    <tr>\n",
       "      <th>4</th>\n",
       "      <td>#Sicav #FCP : une sélection de valeurs \"dévelo...</td>\n",
       "      <td>1</td>\n",
       "      <td>neutral</td>\n",
       "    </tr>\n",
       "    <tr>\n",
       "      <th>...</th>\n",
       "      <td>...</td>\n",
       "      <td>...</td>\n",
       "      <td>...</td>\n",
       "    </tr>\n",
       "    <tr>\n",
       "      <th>865</th>\n",
       "      <td>Terre de biodiversité &amp;gt; http &amp;gt; Conseil g...</td>\n",
       "      <td>1</td>\n",
       "      <td>neutral</td>\n",
       "    </tr>\n",
       "    <tr>\n",
       "      <th>866</th>\n",
       "      <td>Le #Panama  c'est une variété de paysages mais...</td>\n",
       "      <td>2</td>\n",
       "      <td>positive</td>\n",
       "    </tr>\n",
       "    <tr>\n",
       "      <th>867</th>\n",
       "      <td>. @user @user OVH ils font du Greenwhasing sur...</td>\n",
       "      <td>0</td>\n",
       "      <td>negative</td>\n",
       "    </tr>\n",
       "    <tr>\n",
       "      <th>868</th>\n",
       "      <td>A relire sur [http 4 secrets beauté du marc de...</td>\n",
       "      <td>1</td>\n",
       "      <td>neutral</td>\n",
       "    </tr>\n",
       "    <tr>\n",
       "      <th>869</th>\n",
       "      <td>10 #matériaux incroyables pour les #bâtiments ...</td>\n",
       "      <td>2</td>\n",
       "      <td>positive</td>\n",
       "    </tr>\n",
       "  </tbody>\n",
       "</table>\n",
       "<p>870 rows × 3 columns</p>\n",
       "</div>"
      ],
      "text/plain": [
       "                                                  text  label sentiment\n",
       "0    Royal: le président n'aime pas les pauvres? \"c...      0  negative\n",
       "1    La 'fashionweek' du fleurissement - Site Offic...      1   neutral\n",
       "2    #press #seo: Nager vert avec les piscines écol...      2  positive\n",
       "3    #Biodiversité #Gard : Des Lézards ocellés détr...      0  negative\n",
       "4    #Sicav #FCP : une sélection de valeurs \"dévelo...      1   neutral\n",
       "..                                                 ...    ...       ...\n",
       "865  Terre de biodiversité &gt; http &gt; Conseil g...      1   neutral\n",
       "866  Le #Panama  c'est une variété de paysages mais...      2  positive\n",
       "867  . @user @user OVH ils font du Greenwhasing sur...      0  negative\n",
       "868  A relire sur [http 4 secrets beauté du marc de...      1   neutral\n",
       "869  10 #matériaux incroyables pour les #bâtiments ...      2  positive\n",
       "\n",
       "[870 rows x 3 columns]"
      ]
     },
<<<<<<< HEAD
     "execution_count": 23,
=======
     "execution_count": 8,
>>>>>>> main
     "metadata": {},
     "output_type": "execute_result"
    }
   ],
   "source": [
    "df"
   ]
  },
  {
   "cell_type": "code",
<<<<<<< HEAD
   "execution_count": 24,
=======
   "execution_count": null,
>>>>>>> main
   "metadata": {},
   "outputs": [],
   "source": [
    "df.to_csv('dataset_fr_reseaux_socio.csv', index=False)"
   ]
<<<<<<< HEAD
  },
  {
   "cell_type": "code",
   "execution_count": 26,
   "metadata": {},
   "outputs": [],
   "source": [
    "df = pd.read_csv('dataset_fr_reseaux_socio.csv')"
   ]
  },
  {
   "cell_type": "code",
   "execution_count": 27,
   "metadata": {},
   "outputs": [
    {
     "data": {
      "text/html": [
       "<div>\n",
       "<style scoped>\n",
       "    .dataframe tbody tr th:only-of-type {\n",
       "        vertical-align: middle;\n",
       "    }\n",
       "\n",
       "    .dataframe tbody tr th {\n",
       "        vertical-align: top;\n",
       "    }\n",
       "\n",
       "    .dataframe thead th {\n",
       "        text-align: right;\n",
       "    }\n",
       "</style>\n",
       "<table border=\"1\" class=\"dataframe\">\n",
       "  <thead>\n",
       "    <tr style=\"text-align: right;\">\n",
       "      <th></th>\n",
       "      <th>text</th>\n",
       "      <th>label</th>\n",
       "      <th>sentiment</th>\n",
       "    </tr>\n",
       "  </thead>\n",
       "  <tbody>\n",
       "    <tr>\n",
       "      <th>0</th>\n",
       "      <td>Royal: le président n'aime pas les pauvres? \"c...</td>\n",
       "      <td>0</td>\n",
       "      <td>negative</td>\n",
       "    </tr>\n",
       "    <tr>\n",
       "      <th>1</th>\n",
       "      <td>La 'fashionweek' du fleurissement - Site Offic...</td>\n",
       "      <td>1</td>\n",
       "      <td>neutral</td>\n",
       "    </tr>\n",
       "    <tr>\n",
       "      <th>2</th>\n",
       "      <td>#press #seo: Nager vert avec les piscines écol...</td>\n",
       "      <td>2</td>\n",
       "      <td>positive</td>\n",
       "    </tr>\n",
       "    <tr>\n",
       "      <th>3</th>\n",
       "      <td>#Biodiversité #Gard : Des Lézards ocellés détr...</td>\n",
       "      <td>0</td>\n",
       "      <td>negative</td>\n",
       "    </tr>\n",
       "    <tr>\n",
       "      <th>4</th>\n",
       "      <td>#Sicav #FCP : une sélection de valeurs \"dévelo...</td>\n",
       "      <td>1</td>\n",
       "      <td>neutral</td>\n",
       "    </tr>\n",
       "    <tr>\n",
       "      <th>...</th>\n",
       "      <td>...</td>\n",
       "      <td>...</td>\n",
       "      <td>...</td>\n",
       "    </tr>\n",
       "    <tr>\n",
       "      <th>865</th>\n",
       "      <td>Terre de biodiversité &amp;gt; http &amp;gt; Conseil g...</td>\n",
       "      <td>1</td>\n",
       "      <td>neutral</td>\n",
       "    </tr>\n",
       "    <tr>\n",
       "      <th>866</th>\n",
       "      <td>Le #Panama  c'est une variété de paysages mais...</td>\n",
       "      <td>2</td>\n",
       "      <td>positive</td>\n",
       "    </tr>\n",
       "    <tr>\n",
       "      <th>867</th>\n",
       "      <td>. @user @user OVH ils font du Greenwhasing sur...</td>\n",
       "      <td>0</td>\n",
       "      <td>negative</td>\n",
       "    </tr>\n",
       "    <tr>\n",
       "      <th>868</th>\n",
       "      <td>A relire sur [http 4 secrets beauté du marc de...</td>\n",
       "      <td>1</td>\n",
       "      <td>neutral</td>\n",
       "    </tr>\n",
       "    <tr>\n",
       "      <th>869</th>\n",
       "      <td>10 #matériaux incroyables pour les #bâtiments ...</td>\n",
       "      <td>2</td>\n",
       "      <td>positive</td>\n",
       "    </tr>\n",
       "  </tbody>\n",
       "</table>\n",
       "<p>870 rows × 3 columns</p>\n",
       "</div>"
      ],
      "text/plain": [
       "                                                  text  label sentiment\n",
       "0    Royal: le président n'aime pas les pauvres? \"c...      0  negative\n",
       "1    La 'fashionweek' du fleurissement - Site Offic...      1   neutral\n",
       "2    #press #seo: Nager vert avec les piscines écol...      2  positive\n",
       "3    #Biodiversité #Gard : Des Lézards ocellés détr...      0  negative\n",
       "4    #Sicav #FCP : une sélection de valeurs \"dévelo...      1   neutral\n",
       "..                                                 ...    ...       ...\n",
       "865  Terre de biodiversité &gt; http &gt; Conseil g...      1   neutral\n",
       "866  Le #Panama  c'est une variété de paysages mais...      2  positive\n",
       "867  . @user @user OVH ils font du Greenwhasing sur...      0  negative\n",
       "868  A relire sur [http 4 secrets beauté du marc de...      1   neutral\n",
       "869  10 #matériaux incroyables pour les #bâtiments ...      2  positive\n",
       "\n",
       "[870 rows x 3 columns]"
      ]
     },
     "execution_count": 27,
     "metadata": {},
     "output_type": "execute_result"
    }
   ],
   "source": [
    "df"
   ]
  },
  {
   "cell_type": "code",
   "execution_count": 28,
   "metadata": {},
   "outputs": [
    {
     "data": {
      "image/png": "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",
      "text/plain": [
       "<Figure size 500x300 with 1 Axes>"
      ]
     },
     "metadata": {},
     "output_type": "display_data"
    }
   ],
   "source": [
    "import seaborn as sns\n",
    "import matplotlib.pyplot as plt\n",
    "\n",
    "plt.figure(figsize=(5,3))\n",
    "\n",
    "g = sns.histplot(data=df['sentiment'],bins=30)\n",
    "g.set_title(\"representation de la dataset\")\n",
    "g.set_xlabel(\"la label\")\n",
    "g.set_ylabel(\"nombre l'element\")\n",
    "\n",
    "plt.show()"
   ]
=======
>>>>>>> main
  }
 ],
 "metadata": {
  "kernelspec": {
   "display_name": "deeplearning_env",
   "language": "python",
   "name": "python3"
  },
  "language_info": {
   "codemirror_mode": {
    "name": "ipython",
    "version": 3
   },
   "file_extension": ".py",
   "mimetype": "text/x-python",
   "name": "python",
   "nbconvert_exporter": "python",
   "pygments_lexer": "ipython3",
   "version": "3.10.9"
  },
  "orig_nbformat": 4
 },
 "nbformat": 4,
 "nbformat_minor": 2
}
